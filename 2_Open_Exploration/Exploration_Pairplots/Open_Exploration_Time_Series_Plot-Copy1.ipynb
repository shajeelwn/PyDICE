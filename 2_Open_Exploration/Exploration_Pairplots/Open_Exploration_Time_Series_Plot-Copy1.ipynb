{
 "cells": [
  {
   "cell_type": "markdown",
   "metadata": {},
   "source": [
    "# DICE SM - Exploration & Global Sensitivity Analysis"
   ]
  },
  {
   "cell_type": "markdown",
   "metadata": {},
   "source": [
    "## Setup & Initialisation of levers and uncertainties "
   ]
  },
  {
   "cell_type": "code",
   "execution_count": 1,
   "metadata": {},
   "outputs": [
    {
     "name": "stderr",
     "output_type": "stream",
     "text": [
      "C:\\Users\\Shajee\\Anaconda3\\lib\\site-packages\\ema_workbench\\analysis\\prim.py:31: ImportWarning: altair based interactive inspection not available\n",
      "  \"inspection not available\"), ImportWarning)\n",
      "C:\\Users\\Shajee\\Anaconda3\\lib\\importlib\\_bootstrap.py:219: ImportWarning: can't resolve package from __spec__ or __package__, falling back on __name__ and __path__\n",
      "  return f(*args, **kwds)\n",
      "C:\\Users\\Shajee\\Anaconda3\\lib\\importlib\\_bootstrap.py:219: ImportWarning: can't resolve package from __spec__ or __package__, falling back on __name__ and __path__\n",
      "  return f(*args, **kwds)\n",
      "C:\\Users\\Shajee\\Anaconda3\\lib\\site-packages\\sklearn\\ensemble\\weight_boosting.py:29: DeprecationWarning: numpy.core.umath_tests is an internal NumPy module and should not be imported. It will be removed in a future NumPy release.\n",
      "  from numpy.core.umath_tests import inner1d\n"
     ]
    }
   ],
   "source": [
    "import matplotlib.pyplot as plt\n",
    "import matplotlib.pylab as pl\n",
    "import seaborn as sns\n",
    "import pandas as pd\n",
    "import numpy as np\n",
    "import itertools\n",
    "import changefont as cf\n",
    "import time\n",
    "import os \n",
    "os.chdir(os.getcwd())\n",
    "import sys\n",
    "pydice_folder = os.path.dirname(os.getcwd())+\"\\\\1_Model\"\n",
    "sys.path.insert(1, pydice_folder)\n",
    "\n",
    "from SALib.analyze import sobol\n",
    "\n",
    "from ema_workbench import (Model, MultiprocessingEvaluator, Policy, Scenario)\n",
    "\n",
    "from ema_workbench.em_framework.evaluators import perform_experiments, LHS, SOBOL, MORRIS\n",
    "from ema_workbench.em_framework.salib_samplers import get_SALib_problem\n",
    "from ema_workbench.em_framework.samplers import sample_uncertainties\n",
    "from ema_workbench.analysis import feature_scoring\n",
    "# from ema_workbench.analysis.scenario_discovery_util import CLASSIFICATION, REGRESSION\n",
    "\n",
    "from ema_workbench.util import ema_logging\n",
    "from ema_workbench import (perform_experiments, Model, Policy, Scenario, ReplicatorModel, RealParameter, IntegerParameter, ScalarOutcome, ArrayOutcome, \n",
    "                           Constant, ema_logging, SequentialEvaluator, MultiprocessingEvaluator, IpyparallelEvaluator)\n",
    "ema_logging.log_to_stderr(ema_logging.INFO)\n",
    "\n",
    "from PyDICE_V4_array_outcome import PyDICE"
   ]
  },
  {
   "cell_type": "code",
   "execution_count": 2,
   "metadata": {},
   "outputs": [],
   "source": [
    "model = PyDICE()\n",
    "dice_sm = Model('dicesmEMA', function = model)"
   ]
  },
  {
   "cell_type": "markdown",
   "metadata": {},
   "source": [
    "## Exploration - Time Series Plot"
   ]
  },
  {
   "cell_type": "code",
   "execution_count": 3,
   "metadata": {},
   "outputs": [],
   "source": [
    "dice_sm.uncertainties = [IntegerParameter('t2xco2_index', 0, 999),\n",
    "                         IntegerParameter('t2xco2_dist',0,2),\n",
    "                         IntegerParameter('fdamage',0,2),\n",
    "                         RealParameter('tfp_gr',  0.07, 0.09),\n",
    "                         RealParameter('sigma_gr', -0.012, -0.008),\n",
    "                         RealParameter('pop_gr', 0.1, 0.15),\n",
    "                         RealParameter('fosslim',  4000.0, 13649),\n",
    "                         IntegerParameter('cback', 100, 600)]\n",
    "\n",
    "dice_sm.levers = [RealParameter('sr', 0.1, 0.5),\n",
    "                  RealParameter('irstp',  0.001, 0.015),\n",
    "                  IntegerParameter('periodfullpart', 10, 58),\n",
    "                  IntegerParameter('miu_period', 10, 58)]\n",
    "\n",
    "dice_sm.outcomes = [ArrayOutcome('Atmospheric Temperature'),\n",
    "                    ArrayOutcome('Damages'),\n",
    "                    ArrayOutcome('Utility'),\n",
    "                    ArrayOutcome('Total Output')]"
   ]
  },
  {
   "cell_type": "code",
   "execution_count": 4,
   "metadata": {},
   "outputs": [],
   "source": [
    "n_scenarios=10000\n",
    "n_policies=20\n",
    "\n",
    "# start = time.time()\n",
    "# with MultiprocessingEvaluator(dice_sm, n_processes=8) as evaluator:\n",
    "#     results = evaluator.perform_experiments(scenarios=n_scenarios, policies=n_policies)\n",
    "# end = time.time()\n",
    "\n",
    "# print('Experiment time is ' + str(round((end - start)/60)) + ' mintues')"
   ]
  },
  {
   "cell_type": "code",
   "execution_count": 5,
   "metadata": {},
   "outputs": [
    {
     "name": "stderr",
     "output_type": "stream",
     "text": [
      "[MainProcess/INFO] results loaded succesfully from C:\\Users\\Shajee\\Documents\\GitHub\\PyDICE\\2_Open_Exploration\\open_exploration_V4_10000k_20.tar.gz\n"
     ]
    }
   ],
   "source": [
    "from ema_workbench import save_results, load_results\n",
    "\n",
    "file_name = 'open_exploration_V4_' + str(n_scenarios) + 'k_' + str(n_policies) + '.tar.gz'\n",
    "# save_results(results, file_name)\n",
    "results = load_results(file_name)"
   ]
  },
  {
   "cell_type": "code",
   "execution_count": 6,
   "metadata": {},
   "outputs": [],
   "source": [
    "experiments, outcomes = results"
   ]
  },
  {
   "cell_type": "code",
   "execution_count": 7,
   "metadata": {},
   "outputs": [],
   "source": [
    "TimeLine = []\n",
    "for i in range(60):\n",
    "    TimeLine.append(2010+i*5)\n",
    "\n",
    "outcomes[\"TIME\"] = np.array([TimeLine,TimeLine])"
   ]
  },
  {
   "cell_type": "code",
   "execution_count": null,
   "metadata": {},
   "outputs": [
    {
     "ename": "KeyError",
     "evalue": "'TIME'",
     "output_type": "error",
     "traceback": [
      "\u001b[1;31m---------------------------------------------------------------------------\u001b[0m",
      "\u001b[1;31mKeyError\u001b[0m                                  Traceback (most recent call last)",
      "\u001b[1;32m<ipython-input-8-a7e3f9d75c28>\u001b[0m in \u001b[0;36m<module>\u001b[1;34m()\u001b[0m\n\u001b[0;32m      5\u001b[0m \u001b[1;32mfor\u001b[0m \u001b[0moutcome\u001b[0m \u001b[1;32min\u001b[0m \u001b[0moutcomes\u001b[0m\u001b[1;33m.\u001b[0m\u001b[0mkeys\u001b[0m\u001b[1;33m(\u001b[0m\u001b[1;33m)\u001b[0m\u001b[1;33m:\u001b[0m\u001b[1;33m\u001b[0m\u001b[0m\n\u001b[0;32m      6\u001b[0m     fig,axes=plotting.lines(experiments, outcomes, outcomes_to_show=outcome, \n\u001b[1;32m----> 7\u001b[1;33m                             density=plotting_util.Density.BOXENPLOT)\n\u001b[0m\u001b[0;32m      8\u001b[0m     \u001b[0mfig\u001b[0m\u001b[1;33m.\u001b[0m\u001b[0mset_size_inches\u001b[0m\u001b[1;33m(\u001b[0m\u001b[1;36m20\u001b[0m\u001b[1;33m,\u001b[0m \u001b[1;36m8\u001b[0m\u001b[1;33m)\u001b[0m\u001b[1;33m\u001b[0m\u001b[0m\n\u001b[0;32m      9\u001b[0m     \u001b[0mcf\u001b[0m\u001b[1;33m.\u001b[0m\u001b[0mchange_fontsize\u001b[0m\u001b[1;33m(\u001b[0m\u001b[0mfig\u001b[0m\u001b[1;33m,\u001b[0m \u001b[0mfs\u001b[0m\u001b[1;33m=\u001b[0m\u001b[1;36m22\u001b[0m\u001b[1;33m)\u001b[0m\u001b[1;33m\u001b[0m\u001b[0m\n",
      "\u001b[1;32m~\\Anaconda3\\lib\\site-packages\\ema_workbench\\analysis\\plotting.py\u001b[0m in \u001b[0;36mlines\u001b[1;34m(experiments, outcomes, outcomes_to_show, group_by, grouping_specifiers, density, legend, titles, ylabels, experiments_to_show, show_envelope, log)\u001b[0m\n\u001b[0;32m    343\u001b[0m \u001b[1;33m\u001b[0m\u001b[0m\n\u001b[0;32m    344\u001b[0m     data = prepare_data(experiments, outcomes, outcomes_to_show,\n\u001b[1;32m--> 345\u001b[1;33m                         group_by, grouping_specifiers)\n\u001b[0m\u001b[0;32m    346\u001b[0m     \u001b[0moutcomes\u001b[0m\u001b[1;33m,\u001b[0m \u001b[0moutcomes_to_show\u001b[0m\u001b[1;33m,\u001b[0m \u001b[0mtime\u001b[0m\u001b[1;33m,\u001b[0m \u001b[0mgrouping_labels\u001b[0m \u001b[1;33m=\u001b[0m \u001b[0mdata\u001b[0m\u001b[1;33m\u001b[0m\u001b[0m\n\u001b[0;32m    347\u001b[0m \u001b[1;33m\u001b[0m\u001b[0m\n",
      "\u001b[1;32m~\\Anaconda3\\lib\\site-packages\\ema_workbench\\analysis\\plotting_util.py\u001b[0m in \u001b[0;36mprepare_data\u001b[1;34m(experiments, outcomes, outcomes_to_show, group_by, grouping_specifiers, filter_scalar)\u001b[0m\n\u001b[0;32m    760\u001b[0m \u001b[1;33m\u001b[0m\u001b[0m\n\u001b[0;32m    761\u001b[0m         \u001b[1;32mfor\u001b[0m \u001b[0mentry\u001b[0m \u001b[1;32min\u001b[0m \u001b[0moutcomes_to_show\u001b[0m\u001b[1;33m:\u001b[0m\u001b[1;33m\u001b[0m\u001b[0m\n\u001b[1;32m--> 762\u001b[1;33m             \u001b[0mtemp_outcomes\u001b[0m\u001b[1;33m[\u001b[0m\u001b[0mentry\u001b[0m\u001b[1;33m]\u001b[0m \u001b[1;33m=\u001b[0m \u001b[0moutcomes\u001b[0m\u001b[1;33m[\u001b[0m\u001b[0mentry\u001b[0m\u001b[1;33m]\u001b[0m\u001b[1;33m\u001b[0m\u001b[0m\n\u001b[0m\u001b[0;32m    763\u001b[0m \u001b[1;33m\u001b[0m\u001b[0m\n\u001b[0;32m    764\u001b[0m     \u001b[1;31m# filter the outcomes to exclude scalar values\u001b[0m\u001b[1;33m\u001b[0m\u001b[1;33m\u001b[0m\u001b[0m\n",
      "\u001b[1;31mKeyError\u001b[0m: 'TIME'"
     ]
    }
   ],
   "source": [
    "from ema_workbench.analysis import plotting, plotting_util\n",
    "\n",
    "sns.set_style(\"whitegrid\")\n",
    "\n",
    "for outcome in outcomes.keys():\n",
    "    fig,axes=plotting.lines(experiments, outcomes, outcomes_to_show=outcome, \n",
    "                            density=plotting_util.Density.BOXENPLOT)\n",
    "    fig.set_size_inches(20, 8)  \n",
    "    cf.change_fontsize(fig, fs=22)\n",
    "    fig.savefig('Time_Series_Plot_V4_' + str(outcome) + '_scen' + str(n_scenarios) \n",
    "                + '_pol' + str(n_policies) + '.png')\n",
    "plt.show()"
   ]
  },
  {
   "cell_type": "code",
   "execution_count": null,
   "metadata": {},
   "outputs": [],
   "source": []
  }
 ],
 "metadata": {
  "kernelspec": {
   "display_name": "Python 3",
   "language": "python",
   "name": "python3"
  },
  "language_info": {
   "codemirror_mode": {
    "name": "ipython",
    "version": 3
   },
   "file_extension": ".py",
   "mimetype": "text/x-python",
   "name": "python",
   "nbconvert_exporter": "python",
   "pygments_lexer": "ipython3",
   "version": "3.7.0"
  },
  "toc-autonumbering": false
 },
 "nbformat": 4,
 "nbformat_minor": 2
}
