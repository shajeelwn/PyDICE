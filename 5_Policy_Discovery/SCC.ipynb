{
 "cells": [
  {
   "cell_type": "code",
   "execution_count": 1,
   "metadata": {},
   "outputs": [
    {
     "name": "stderr",
     "output_type": "stream",
     "text": [
      "C:\\Users\\Shajee\\Anaconda3\\lib\\site-packages\\ema_workbench\\analysis\\prim.py:31: ImportWarning: altair based interactive inspection not available\n",
      "  \"inspection not available\"), ImportWarning)\n",
      "C:\\Users\\Shajee\\Anaconda3\\lib\\importlib\\_bootstrap.py:219: ImportWarning: can't resolve package from __spec__ or __package__, falling back on __name__ and __path__\n",
      "  return f(*args, **kwds)\n",
      "C:\\Users\\Shajee\\Anaconda3\\lib\\importlib\\_bootstrap.py:219: ImportWarning: can't resolve package from __spec__ or __package__, falling back on __name__ and __path__\n",
      "  return f(*args, **kwds)\n",
      "C:\\Users\\Shajee\\Anaconda3\\lib\\site-packages\\sklearn\\ensemble\\weight_boosting.py:29: DeprecationWarning: numpy.core.umath_tests is an internal NumPy module and should not be imported. It will be removed in a future NumPy release.\n",
      "  from numpy.core.umath_tests import inner1d\n"
     ]
    }
   ],
   "source": [
    "import pandas as pd\n",
    "import numpy as np\n",
    "import seaborn as sns\n",
    "import matplotlib.pyplot as plt\n",
    "\n",
    "import time\n",
    "import changefont as cf\n",
    "\n",
    "import os \n",
    "os.chdir(os.getcwd())\n",
    "import sys\n",
    "# insert at 1, 0 is the script path (or '' in REPL)\n",
    "pydice_folder = os.path.dirname(os.getcwd())+\"\\\\1_Model\"\n",
    "policy_folder = os.path.dirname(os.getcwd())+\"\\\\5_Policy_Discovery\"\n",
    "sys.path.insert(1, pydice_folder)\n",
    "\n",
    "from specify import specify_levers\n",
    "\n",
    "from ema_workbench.analysis import parcoords\n",
    "from ema_workbench.em_framework.optimization import EpsilonProgress\n",
    "from ema_workbench import (save_results, load_results, Model, Policy, Scenario, \n",
    "                           Constraint, RealParameter, IntegerParameter, ScalarOutcome, \n",
    "                           MultiprocessingEvaluator, SequentialEvaluator)\n",
    "\n",
    "from ema_workbench.em_framework.evaluators import perform_experiments\n",
    "from ema_workbench.em_framework.samplers import sample_uncertainties\n",
    "from ema_workbench.util import ema_logging\n",
    "from ema_workbench.em_framework.evaluators import BaseEvaluator\n",
    "\n",
    "ema_logging.log_to_stderr(ema_logging.INFO)\n",
    "BaseEvaluator.reporting_frequency = 0.1\n",
    "# ema_logging.log_to_stderr(ema_logging.DEBUG)\n",
    "\n",
    "from PyDICE_SCC import PyDICE_SCC"
   ]
  },
  {
   "cell_type": "code",
   "execution_count": 2,
   "metadata": {},
   "outputs": [],
   "source": [
    "dice_opt = pd.read_excel(\"DICE2013R.xlsm\" ,sheet_name = \"Opttax\", index_col = 0)\n",
    "policy_12 = pd.read_csv(\"policy_12.csv\", header=None, index_col=0).T"
   ]
  },
  {
   "cell_type": "code",
   "execution_count": 3,
   "metadata": {},
   "outputs": [],
   "source": [
    "nord_optimal_policy = Policy('nord_optimal_policy', **specify_levers(np.mean(dice_opt.iloc[129]),\n",
    "                                                                     0.015,0,29))\n",
    "\n",
    "robust_policy = Policy('robust_policy', **specify_levers(policy_12.to_numpy()[0][0],\n",
    "                                                         policy_12.to_numpy()[0][1],0,\n",
    "                                                         int(policy_12.to_numpy()[0][2])))                                      "
   ]
  },
  {
   "cell_type": "code",
   "execution_count": 4,
   "metadata": {},
   "outputs": [],
   "source": [
    "policies_to_evaluate = []\n",
    "policies_to_evaluate.append(nord_optimal_policy)\n",
    "policies_to_evaluate.append(robust_policy)"
   ]
  },
  {
   "cell_type": "code",
   "execution_count": 5,
   "metadata": {},
   "outputs": [],
   "source": [
    "model = PyDICE_SCC()\n",
    "pydice = Model('PyDICE', function = model)"
   ]
  },
  {
   "cell_type": "code",
   "execution_count": 6,
   "metadata": {},
   "outputs": [
    {
     "data": {
      "text/plain": [
       "[Policy({'sr': 0.24868248835166676, 'irstp': 0.015, 'periodfullpart': 0, 'miu_period': 29}),\n",
       " Policy({'sr': 0.2766788046488994, 'irstp': 0.002261578895469605, 'periodfullpart': 0, 'miu_period': 10})]"
      ]
     },
     "execution_count": 6,
     "metadata": {},
     "output_type": "execute_result"
    }
   ],
   "source": [
    "policies_to_evaluate"
   ]
  },
  {
   "cell_type": "code",
   "execution_count": 7,
   "metadata": {},
   "outputs": [],
   "source": [
    "pydice.uncertainties = [IntegerParameter('t2xco2_index', 0, 999),\n",
    "                         IntegerParameter('t2xco2_dist',0,2),\n",
    "                         IntegerParameter('fdamage',0,2),\n",
    "                         RealParameter('tfp_gr',  0.07, 0.09),\n",
    "                         RealParameter('sigma_gr', -0.012, -0.008),\n",
    "                         RealParameter('pop_gr', 0.1, 0.15),\n",
    "                         RealParameter('fosslim',  4000.0, 13649),\n",
    "                         IntegerParameter('cback', 100, 600)]\n",
    "\n",
    "pydice.levers = [RealParameter('sr', 0.1, 0.5),\n",
    "                  RealParameter('irstp',  0.001, 0.015),\n",
    "                  IntegerParameter('periodfullpart', 10, 58),\n",
    "                  IntegerParameter('miu_period', 10, 58)]\n",
    "\n",
    "pydice.outcomes = [ScalarOutcome('SCC 2015', ScalarOutcome.INFO),\n",
    "                    ScalarOutcome('SCC 2020', ScalarOutcome.INFO),\n",
    "                    ScalarOutcome('SCC 2025', ScalarOutcome.INFO),\n",
    "                    ScalarOutcome('SCC 2030', ScalarOutcome.INFO),\n",
    "                    ScalarOutcome('SCC 2050', ScalarOutcome.INFO),\n",
    "                    ScalarOutcome('SCC 2100', ScalarOutcome.INFO),\n",
    "                    ScalarOutcome('SCC 2150', ScalarOutcome.INFO)]"
   ]
  },
  {
   "cell_type": "code",
   "execution_count": null,
   "metadata": {},
   "outputs": [
    {
     "name": "stderr",
     "output_type": "stream",
     "text": [
      "[MainProcess/INFO] pool started\n",
      "[MainProcess/INFO] performing 100000 scenarios * 2 policies * 1 model(s) = 200000 experiments\n"
     ]
    }
   ],
   "source": [
    "n_scenarios=100000\n",
    "\n",
    "start = time.time()\n",
    "with MultiprocessingEvaluator(pydice) as evaluator:\n",
    "    results = evaluator.perform_experiments(scenarios=n_scenarios, policies=policies_to_evaluate)\n",
    "end = time.time()\n",
    "\n",
    "print('Experiment time is ' + str(round((end - start)/60)) + ' mintues')"
   ]
  },
  {
   "cell_type": "code",
   "execution_count": null,
   "metadata": {},
   "outputs": [],
   "source": [
    "experiments, outcomes = results"
   ]
  },
  {
   "cell_type": "code",
   "execution_count": null,
   "metadata": {},
   "outputs": [],
   "source": [
    "outDF = pd.DataFrame(outcomes)"
   ]
  },
  {
   "cell_type": "code",
   "execution_count": null,
   "metadata": {},
   "outputs": [],
   "source": [
    "resDF = pd.concat([experiments, outDF], axis=1)"
   ]
  },
  {
   "cell_type": "code",
   "execution_count": null,
   "metadata": {},
   "outputs": [],
   "source": [
    "resDF[resDF[\"policy\"]==\"robust_policy\"].iloc[:,15:].describe()"
   ]
  },
  {
   "cell_type": "code",
   "execution_count": null,
   "metadata": {},
   "outputs": [],
   "source": [
    "resDF[resDF[\"policy\"]==\"nord_optimal_policy\"].iloc[:,15:].describe()"
   ]
  },
  {
   "cell_type": "code",
   "execution_count": 1,
   "metadata": {},
   "outputs": [],
   "source": [
    "import matplotlib.pyplot as plt"
   ]
  },
  {
   "cell_type": "code",
   "execution_count": null,
   "metadata": {},
   "outputs": [],
   "source": [
    "plt.lay"
   ]
  }
 ],
 "metadata": {
  "kernelspec": {
   "display_name": "Python 3",
   "language": "python",
   "name": "python3"
  },
  "language_info": {
   "codemirror_mode": {
    "name": "ipython",
    "version": 3
   },
   "file_extension": ".py",
   "mimetype": "text/x-python",
   "name": "python",
   "nbconvert_exporter": "python",
   "pygments_lexer": "ipython3",
   "version": "3.7.0"
  }
 },
 "nbformat": 4,
 "nbformat_minor": 2
}
